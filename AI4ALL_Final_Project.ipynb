{
  "nbformat": 4,
  "nbformat_minor": 0,
  "metadata": {
    "colab": {
      "name": "AI4ALL Final Project.ipynb",
      "provenance": [],
      "collapsed_sections": []
    },
    "kernelspec": {
      "name": "python3",
      "display_name": "Python 3"
    }
  },
  "cells": [
    {
      "cell_type": "markdown",
      "metadata": {
        "id": "V3Kl2N6ZMV8r",
        "colab_type": "text"
      },
      "source": [
        "# **AI4ALL 2020 Final Project**\n",
        "\n",
        "By: Abigail Batinga\n",
        "\n",
        ">**Motivation:** By predicting happiness scores based on country factors, we can help policy makers be better informed to improve the well being of people globally.\n",
        "\n",
        ">**Dataset:** World Happiness Report 2019\n",
        "\n",
        ">**Description:** The World Happiness Report ranks 155 countries by their happiness levels based on the country's happiness score. The country's happiness score is collected by surveying a random sample population based on the Cantril ladder which asks respondents to think of a ladder with the best possible life being a 10 and the worst being a 0.\n",
        "\n",
        ">**Objectives:**\n",
        "*   Find features that contribute most strongly to explaining happiness score for a country. This will be done by taking subsets of the columns in iterations.\n",
        "*   Find the best regression model to increase R2 score and decrease MSE.\n",
        "*   Extend work by using other methods to assess feature importance. ie. principal component analysis.\n"
      ]
    },
    {
      "cell_type": "code",
      "metadata": {
        "id": "5rgCh8biMTAa",
        "colab_type": "code",
        "colab": {}
      },
      "source": [
        "# Connecting your google drive with colab so you can access data from spreadsheets\n",
        "# You will need to run this code and enter a key to authenticate every day/session\n",
        "from google.colab import auth\n",
        "auth.authenticate_user()\n",
        "import gspread\n",
        "from oauth2client.client import GoogleCredentials\n",
        "gc = gspread.authorize(GoogleCredentials.get_application_default())"
      ],
      "execution_count": null,
      "outputs": []
    },
    {
      "cell_type": "code",
      "metadata": {
        "id": "F46Ps9fpM6Pz",
        "colab_type": "code",
        "colab": {}
      },
      "source": [
        "# Import the python packages we want to use\n",
        "# Pandas helps us explore and manipulate the data\n",
        "# Matplotlib helps us to graph and plot the data\n",
        "import pandas as pd\n",
        "import matplotlib.pyplot as plt\n",
        "import seaborn as sns\n",
        "import statsmodels.formula.api as smf\n",
        "from sklearn.model_selection import train_test_split \n",
        "from sklearn.linear_model import LinearRegression, LogisticRegression\n",
        "from sklearn import metrics\n",
        "from sklearn.metrics import accuracy_score, r2_score\n",
        "from sklearn.feature_selection import SelectKBest\n",
        "\n",
        "from sklearn.ensemble import RandomForestRegressor\n",
        "import numpy as np\n",
        "%matplotlib inline"
      ],
      "execution_count": null,
      "outputs": []
    },
    {
      "cell_type": "code",
      "metadata": {
        "id": "3kA3yoSpNGHw",
        "colab_type": "code",
        "colab": {}
      },
      "source": [
        "# Loading and storing world happiness dataset\n",
        "wb = gc.open_by_url('https://docs.google.com/spreadsheets/d/1bwIXIzmE77O1Gsmp3_H3vveAExYyZ17mkGagq-4PNtY/edit#gid=906238556')"
      ],
      "execution_count": null,
      "outputs": []
    },
    {
      "cell_type": "code",
      "metadata": {
        "id": "ZdwGaURPNK2S",
        "colab_type": "code",
        "colab": {
          "base_uri": "https://localhost:8080/",
          "height": 221
        },
        "outputId": "45dce093-310a-4a09-e8ed-3ba32f25524f"
      },
      "source": [
        "# Load happiness data into Pandas dataframe\n",
        "sheet = wb.worksheet('data')\n",
        "data = sheet.get_all_values()\n",
        "\n",
        "# Pandas stores data in a 'data frame'\n",
        "df = pd.DataFrame(data)\n",
        "\n",
        "# Set the headings\n",
        "df.columns = df.iloc[0]\n",
        "df = df.iloc[1:]\n",
        "\n",
        "# Print the first few lines of the data frame to check that everything looks good\n",
        "df.head()"
      ],
      "execution_count": null,
      "outputs": [
        {
          "output_type": "execute_result",
          "data": {
            "text/html": [
              "<div>\n",
              "<style scoped>\n",
              "    .dataframe tbody tr th:only-of-type {\n",
              "        vertical-align: middle;\n",
              "    }\n",
              "\n",
              "    .dataframe tbody tr th {\n",
              "        vertical-align: top;\n",
              "    }\n",
              "\n",
              "    .dataframe thead th {\n",
              "        text-align: right;\n",
              "    }\n",
              "</style>\n",
              "<table border=\"1\" class=\"dataframe\">\n",
              "  <thead>\n",
              "    <tr style=\"text-align: right;\">\n",
              "      <th></th>\n",
              "      <th>Overall rank</th>\n",
              "      <th>Country or region</th>\n",
              "      <th>Score</th>\n",
              "      <th>GDP per capita</th>\n",
              "      <th>Social support</th>\n",
              "      <th>Healthy life expectancy</th>\n",
              "      <th>Freedom to make life choices</th>\n",
              "      <th>Generosity</th>\n",
              "      <th>Perceptions of corruption</th>\n",
              "    </tr>\n",
              "  </thead>\n",
              "  <tbody>\n",
              "    <tr>\n",
              "      <th>1</th>\n",
              "      <td>1</td>\n",
              "      <td>Finland</td>\n",
              "      <td>7.769</td>\n",
              "      <td>1.34</td>\n",
              "      <td>1.587</td>\n",
              "      <td>0.986</td>\n",
              "      <td>0.596</td>\n",
              "      <td>0.153</td>\n",
              "      <td>0.393</td>\n",
              "    </tr>\n",
              "    <tr>\n",
              "      <th>2</th>\n",
              "      <td>2</td>\n",
              "      <td>Denmark</td>\n",
              "      <td>7.6</td>\n",
              "      <td>1.383</td>\n",
              "      <td>1.573</td>\n",
              "      <td>0.996</td>\n",
              "      <td>0.592</td>\n",
              "      <td>0.252</td>\n",
              "      <td>0.41</td>\n",
              "    </tr>\n",
              "    <tr>\n",
              "      <th>3</th>\n",
              "      <td>3</td>\n",
              "      <td>Norway</td>\n",
              "      <td>7.554</td>\n",
              "      <td>1.488</td>\n",
              "      <td>1.582</td>\n",
              "      <td>1.028</td>\n",
              "      <td>0.603</td>\n",
              "      <td>0.271</td>\n",
              "      <td>0.341</td>\n",
              "    </tr>\n",
              "    <tr>\n",
              "      <th>4</th>\n",
              "      <td>4</td>\n",
              "      <td>Iceland</td>\n",
              "      <td>7.494</td>\n",
              "      <td>1.38</td>\n",
              "      <td>1.624</td>\n",
              "      <td>1.026</td>\n",
              "      <td>0.591</td>\n",
              "      <td>0.354</td>\n",
              "      <td>0.118</td>\n",
              "    </tr>\n",
              "    <tr>\n",
              "      <th>5</th>\n",
              "      <td>5</td>\n",
              "      <td>Netherlands</td>\n",
              "      <td>7.488</td>\n",
              "      <td>1.396</td>\n",
              "      <td>1.522</td>\n",
              "      <td>0.999</td>\n",
              "      <td>0.557</td>\n",
              "      <td>0.322</td>\n",
              "      <td>0.298</td>\n",
              "    </tr>\n",
              "  </tbody>\n",
              "</table>\n",
              "</div>"
            ],
            "text/plain": [
              "0 Overall rank Country or region  ... Generosity Perceptions of corruption\n",
              "1            1           Finland  ...      0.153                     0.393\n",
              "2            2           Denmark  ...      0.252                      0.41\n",
              "3            3            Norway  ...      0.271                     0.341\n",
              "4            4           Iceland  ...      0.354                     0.118\n",
              "5            5       Netherlands  ...      0.322                     0.298\n",
              "\n",
              "[5 rows x 9 columns]"
            ]
          },
          "metadata": {
            "tags": []
          },
          "execution_count": 5
        }
      ]
    },
    {
      "cell_type": "code",
      "metadata": {
        "id": "y7dohFFGNT41",
        "colab_type": "code",
        "colab": {
          "base_uri": "https://localhost:8080/",
          "height": 204
        },
        "outputId": "ad8b44c2-64f3-4a0c-dc39-c7fcd4acc4d2"
      },
      "source": [
        "# Check data types in dataframe\n",
        "# Pandas imports all data as objects\n",
        "df.dtypes"
      ],
      "execution_count": null,
      "outputs": [
        {
          "output_type": "execute_result",
          "data": {
            "text/plain": [
              "0\n",
              "Overall rank                    object\n",
              "Country or region               object\n",
              "Score                           object\n",
              "GDP per capita                  object\n",
              "Social support                  object\n",
              "Healthy life expectancy         object\n",
              "Freedom to make life choices    object\n",
              "Generosity                      object\n",
              "Perceptions of corruption       object\n",
              "dtype: object"
            ]
          },
          "metadata": {
            "tags": []
          },
          "execution_count": 6
        }
      ]
    },
    {
      "cell_type": "code",
      "metadata": {
        "id": "vFaSnCLdNhzX",
        "colab_type": "code",
        "colab": {}
      },
      "source": [
        "# Cast data as proper types\n",
        "new_df = {\n",
        "    'Rank': df['Overall rank'].astype(int),\n",
        "    'Country': df['Country or region'].astype(str),\n",
        "    'Score': df['Score'].astype(float),\n",
        "    'GDP': df['GDP per capita'].astype(float),\n",
        "    'SocialSupport': df['Social support'].astype(float),\n",
        "    'Health': df['Healthy life expectancy'].astype(float),\n",
        "    'Freedom': df['Freedom to make life choices'].astype(float),\n",
        "    'Generosity': df['Generosity'].astype(float),\n",
        "    'Corruption': df['Perceptions of corruption'].astype(float)\n",
        "}"
      ],
      "execution_count": null,
      "outputs": []
    },
    {
      "cell_type": "code",
      "metadata": {
        "id": "MXdyXedxNsZ3",
        "colab_type": "code",
        "colab": {
          "base_uri": "https://localhost:8080/",
          "height": 204
        },
        "outputId": "c36b06e7-723d-4289-dca9-c35e809847d7"
      },
      "source": [
        "# Reassign dataframe with proper types\n",
        "df = pd.DataFrame(new_df)\n",
        "df.head()"
      ],
      "execution_count": null,
      "outputs": [
        {
          "output_type": "execute_result",
          "data": {
            "text/html": [
              "<div>\n",
              "<style scoped>\n",
              "    .dataframe tbody tr th:only-of-type {\n",
              "        vertical-align: middle;\n",
              "    }\n",
              "\n",
              "    .dataframe tbody tr th {\n",
              "        vertical-align: top;\n",
              "    }\n",
              "\n",
              "    .dataframe thead th {\n",
              "        text-align: right;\n",
              "    }\n",
              "</style>\n",
              "<table border=\"1\" class=\"dataframe\">\n",
              "  <thead>\n",
              "    <tr style=\"text-align: right;\">\n",
              "      <th></th>\n",
              "      <th>Rank</th>\n",
              "      <th>Country</th>\n",
              "      <th>Score</th>\n",
              "      <th>GDP</th>\n",
              "      <th>SocialSupport</th>\n",
              "      <th>Health</th>\n",
              "      <th>Freedom</th>\n",
              "      <th>Generosity</th>\n",
              "      <th>Corruption</th>\n",
              "    </tr>\n",
              "  </thead>\n",
              "  <tbody>\n",
              "    <tr>\n",
              "      <th>1</th>\n",
              "      <td>1</td>\n",
              "      <td>Finland</td>\n",
              "      <td>7.769</td>\n",
              "      <td>1.340</td>\n",
              "      <td>1.587</td>\n",
              "      <td>0.986</td>\n",
              "      <td>0.596</td>\n",
              "      <td>0.153</td>\n",
              "      <td>0.393</td>\n",
              "    </tr>\n",
              "    <tr>\n",
              "      <th>2</th>\n",
              "      <td>2</td>\n",
              "      <td>Denmark</td>\n",
              "      <td>7.600</td>\n",
              "      <td>1.383</td>\n",
              "      <td>1.573</td>\n",
              "      <td>0.996</td>\n",
              "      <td>0.592</td>\n",
              "      <td>0.252</td>\n",
              "      <td>0.410</td>\n",
              "    </tr>\n",
              "    <tr>\n",
              "      <th>3</th>\n",
              "      <td>3</td>\n",
              "      <td>Norway</td>\n",
              "      <td>7.554</td>\n",
              "      <td>1.488</td>\n",
              "      <td>1.582</td>\n",
              "      <td>1.028</td>\n",
              "      <td>0.603</td>\n",
              "      <td>0.271</td>\n",
              "      <td>0.341</td>\n",
              "    </tr>\n",
              "    <tr>\n",
              "      <th>4</th>\n",
              "      <td>4</td>\n",
              "      <td>Iceland</td>\n",
              "      <td>7.494</td>\n",
              "      <td>1.380</td>\n",
              "      <td>1.624</td>\n",
              "      <td>1.026</td>\n",
              "      <td>0.591</td>\n",
              "      <td>0.354</td>\n",
              "      <td>0.118</td>\n",
              "    </tr>\n",
              "    <tr>\n",
              "      <th>5</th>\n",
              "      <td>5</td>\n",
              "      <td>Netherlands</td>\n",
              "      <td>7.488</td>\n",
              "      <td>1.396</td>\n",
              "      <td>1.522</td>\n",
              "      <td>0.999</td>\n",
              "      <td>0.557</td>\n",
              "      <td>0.322</td>\n",
              "      <td>0.298</td>\n",
              "    </tr>\n",
              "  </tbody>\n",
              "</table>\n",
              "</div>"
            ],
            "text/plain": [
              "   Rank      Country  Score    GDP  ...  Health  Freedom  Generosity  Corruption\n",
              "1     1      Finland  7.769  1.340  ...   0.986    0.596       0.153       0.393\n",
              "2     2      Denmark  7.600  1.383  ...   0.996    0.592       0.252       0.410\n",
              "3     3       Norway  7.554  1.488  ...   1.028    0.603       0.271       0.341\n",
              "4     4      Iceland  7.494  1.380  ...   1.026    0.591       0.354       0.118\n",
              "5     5  Netherlands  7.488  1.396  ...   0.999    0.557       0.322       0.298\n",
              "\n",
              "[5 rows x 9 columns]"
            ]
          },
          "metadata": {
            "tags": []
          },
          "execution_count": 8
        }
      ]
    },
    {
      "cell_type": "code",
      "metadata": {
        "id": "TA8I7UBUOFoF",
        "colab_type": "code",
        "colab": {
          "base_uri": "https://localhost:8080/",
          "height": 187
        },
        "outputId": "4ffca231-14cf-4c0a-9c89-f421c6816487"
      },
      "source": [
        "# Check types\n",
        "df.dtypes"
      ],
      "execution_count": null,
      "outputs": [
        {
          "output_type": "execute_result",
          "data": {
            "text/plain": [
              "Rank               int64\n",
              "Country           object\n",
              "Score            float64\n",
              "GDP              float64\n",
              "SocialSupport    float64\n",
              "Health           float64\n",
              "Freedom          float64\n",
              "Generosity       float64\n",
              "Corruption       float64\n",
              "dtype: object"
            ]
          },
          "metadata": {
            "tags": []
          },
          "execution_count": 9
        }
      ]
    },
    {
      "cell_type": "markdown",
      "metadata": {
        "id": "lEeGmkapOJ99",
        "colab_type": "text"
      },
      "source": [
        "# **Data Exploration**\n",
        "\n",
        "> Ideally, I am searching for the best features to use in my regression model. To do so, I want to explore the data and search for features that best explain my target variable (country happiness score).\n",
        "\n"
      ]
    },
    {
      "cell_type": "code",
      "metadata": {
        "id": "USLpGPQkOzNv",
        "colab_type": "code",
        "colab": {
          "base_uri": "https://localhost:8080/",
          "height": 297
        },
        "outputId": "070c19ad-f05a-44f5-a586-0a26bdf776a7"
      },
      "source": [
        "# Describe happiness data with various statistical metrics\n",
        "df.describe()"
      ],
      "execution_count": null,
      "outputs": [
        {
          "output_type": "execute_result",
          "data": {
            "text/html": [
              "<div>\n",
              "<style scoped>\n",
              "    .dataframe tbody tr th:only-of-type {\n",
              "        vertical-align: middle;\n",
              "    }\n",
              "\n",
              "    .dataframe tbody tr th {\n",
              "        vertical-align: top;\n",
              "    }\n",
              "\n",
              "    .dataframe thead th {\n",
              "        text-align: right;\n",
              "    }\n",
              "</style>\n",
              "<table border=\"1\" class=\"dataframe\">\n",
              "  <thead>\n",
              "    <tr style=\"text-align: right;\">\n",
              "      <th></th>\n",
              "      <th>Rank</th>\n",
              "      <th>Score</th>\n",
              "      <th>GDP</th>\n",
              "      <th>SocialSupport</th>\n",
              "      <th>Health</th>\n",
              "      <th>Freedom</th>\n",
              "      <th>Generosity</th>\n",
              "      <th>Corruption</th>\n",
              "    </tr>\n",
              "  </thead>\n",
              "  <tbody>\n",
              "    <tr>\n",
              "      <th>count</th>\n",
              "      <td>156.000000</td>\n",
              "      <td>156.000000</td>\n",
              "      <td>156.000000</td>\n",
              "      <td>156.000000</td>\n",
              "      <td>156.000000</td>\n",
              "      <td>156.000000</td>\n",
              "      <td>156.000000</td>\n",
              "      <td>156.000000</td>\n",
              "    </tr>\n",
              "    <tr>\n",
              "      <th>mean</th>\n",
              "      <td>78.500000</td>\n",
              "      <td>5.407096</td>\n",
              "      <td>0.905147</td>\n",
              "      <td>1.208814</td>\n",
              "      <td>0.725244</td>\n",
              "      <td>0.392571</td>\n",
              "      <td>0.184846</td>\n",
              "      <td>0.110603</td>\n",
              "    </tr>\n",
              "    <tr>\n",
              "      <th>std</th>\n",
              "      <td>45.177428</td>\n",
              "      <td>1.113120</td>\n",
              "      <td>0.398389</td>\n",
              "      <td>0.299191</td>\n",
              "      <td>0.242124</td>\n",
              "      <td>0.143289</td>\n",
              "      <td>0.095254</td>\n",
              "      <td>0.094538</td>\n",
              "    </tr>\n",
              "    <tr>\n",
              "      <th>min</th>\n",
              "      <td>1.000000</td>\n",
              "      <td>2.853000</td>\n",
              "      <td>0.000000</td>\n",
              "      <td>0.000000</td>\n",
              "      <td>0.000000</td>\n",
              "      <td>0.000000</td>\n",
              "      <td>0.000000</td>\n",
              "      <td>0.000000</td>\n",
              "    </tr>\n",
              "    <tr>\n",
              "      <th>25%</th>\n",
              "      <td>39.750000</td>\n",
              "      <td>4.544500</td>\n",
              "      <td>0.602750</td>\n",
              "      <td>1.055750</td>\n",
              "      <td>0.547750</td>\n",
              "      <td>0.308000</td>\n",
              "      <td>0.108750</td>\n",
              "      <td>0.047000</td>\n",
              "    </tr>\n",
              "    <tr>\n",
              "      <th>50%</th>\n",
              "      <td>78.500000</td>\n",
              "      <td>5.379500</td>\n",
              "      <td>0.960000</td>\n",
              "      <td>1.271500</td>\n",
              "      <td>0.789000</td>\n",
              "      <td>0.417000</td>\n",
              "      <td>0.177500</td>\n",
              "      <td>0.085500</td>\n",
              "    </tr>\n",
              "    <tr>\n",
              "      <th>75%</th>\n",
              "      <td>117.250000</td>\n",
              "      <td>6.184500</td>\n",
              "      <td>1.232500</td>\n",
              "      <td>1.452500</td>\n",
              "      <td>0.881750</td>\n",
              "      <td>0.507250</td>\n",
              "      <td>0.248250</td>\n",
              "      <td>0.141250</td>\n",
              "    </tr>\n",
              "    <tr>\n",
              "      <th>max</th>\n",
              "      <td>156.000000</td>\n",
              "      <td>7.769000</td>\n",
              "      <td>1.684000</td>\n",
              "      <td>1.624000</td>\n",
              "      <td>1.141000</td>\n",
              "      <td>0.631000</td>\n",
              "      <td>0.566000</td>\n",
              "      <td>0.453000</td>\n",
              "    </tr>\n",
              "  </tbody>\n",
              "</table>\n",
              "</div>"
            ],
            "text/plain": [
              "             Rank       Score         GDP  ...     Freedom  Generosity  Corruption\n",
              "count  156.000000  156.000000  156.000000  ...  156.000000  156.000000  156.000000\n",
              "mean    78.500000    5.407096    0.905147  ...    0.392571    0.184846    0.110603\n",
              "std     45.177428    1.113120    0.398389  ...    0.143289    0.095254    0.094538\n",
              "min      1.000000    2.853000    0.000000  ...    0.000000    0.000000    0.000000\n",
              "25%     39.750000    4.544500    0.602750  ...    0.308000    0.108750    0.047000\n",
              "50%     78.500000    5.379500    0.960000  ...    0.417000    0.177500    0.085500\n",
              "75%    117.250000    6.184500    1.232500  ...    0.507250    0.248250    0.141250\n",
              "max    156.000000    7.769000    1.684000  ...    0.631000    0.566000    0.453000\n",
              "\n",
              "[8 rows x 8 columns]"
            ]
          },
          "metadata": {
            "tags": []
          },
          "execution_count": 10
        }
      ]
    },
    {
      "cell_type": "code",
      "metadata": {
        "id": "LF6IFuHLQWPH",
        "colab_type": "code",
        "colab": {
          "base_uri": "https://localhost:8080/",
          "height": 623
        },
        "outputId": "e9e46be0-f8e3-40e4-ed68-60e7349630b2"
      },
      "source": [
        "# Check average value of score column\n",
        "plt.figure(figsize=(15,10))\n",
        "plt.tight_layout()\n",
        "sns.distplot(df['Score'])"
      ],
      "execution_count": null,
      "outputs": [
        {
          "output_type": "execute_result",
          "data": {
            "text/plain": [
              "<matplotlib.axes._subplots.AxesSubplot at 0x7f8149f73240>"
            ]
          },
          "metadata": {
            "tags": []
          },
          "execution_count": 11
        },
        {
          "output_type": "display_data",
          "data": {
            "image/png": "[encoded data removed]",
            "text/plain": [
              "<Figure size 1080x720 with 1 Axes>"
            ]
          },
          "metadata": {
            "tags": [],
            "needs_background": "light"
          }
        }
      ]
    },
    {
      "cell_type": "code",
      "metadata": {
        "id": "LoACooTfimy7",
        "colab_type": "code",
        "colab": {
          "base_uri": "https://localhost:8080/",
          "height": 328
        },
        "outputId": "381429b6-8adb-4099-fbbc-c8b2b913441b"
      },
      "source": [
        "# Create correlation plot\n",
        "corrMatrix = df.corr()\n",
        "sns.heatmap(corrMatrix, annot=True)\n",
        "plt.show()"
      ],
      "execution_count": null,
      "outputs": [
        {
          "output_type": "display_data",
          "data": {
            "image/png": "[encoded data removed]",
            "text/plain": [
              "<Figure size 432x288 with 2 Axes>"
            ]
          },
          "metadata": {
            "tags": [],
            "needs_background": "light"
          }
        }
      ]
    },
    {
      "cell_type": "code",
      "metadata": {
        "id": "pTMB7FMcShBS",
        "colab_type": "code",
        "colab": {
          "base_uri": "https://localhost:8080/",
          "height": 444
        },
        "outputId": "f8f087f0-f719-421c-8aa4-0dfbdd770c7c"
      },
      "source": [
        "jet= plt.get_cmap('viridis')\n",
        "colors = iter(jet(np.linspace(0,1,10)))\n",
        "\n",
        "\n",
        "# Visualize correlation between features and target variable\n",
        "def plot_correlation(df, vars, no_rows, no_cols):\n",
        "  fig = plt.figure(figsize = (8, 6))\n",
        "\n",
        "  for graph, var in enumerate(vars):\n",
        "    ax = fig.add_subplot(no_rows, no_cols, graph+1)\n",
        "    factor = df.loc[:,var]\n",
        "    ax.scatter(df['Score'], factor, c = next(colors))\n",
        "    ax.set_xlabel(\"Happiness Score\")\n",
        "    #ax.set_ylabel(\"{}\".format(factor))\n",
        "    ax.set_title(var + \" vs. happiness score\")\n",
        "  fig.tight_layout()\n",
        "  plt.show()\n",
        "\n",
        "# vars = df[['GDP', 'SocialSupport', 'Health', 'Freedom', 'Generosity', 'Corruption']]\n",
        "vars = df.columns[3:]\n",
        "plot_correlation(df, vars, 3, 3)"
      ],
      "execution_count": null,
      "outputs": [
        {
          "output_type": "stream",
          "text": [
            "*c* argument looks like a single numeric RGB or RGBA sequence, which should be avoided as value-mapping will have precedence in case its length matches with *x* & *y*.  Please use the *color* keyword-argument or provide a 2-D array with a single row if you intend to specify the same RGB or RGBA value for all points.\n",
            "*c* argument looks like a single numeric RGB or RGBA sequence, which should be avoided as value-mapping will have precedence in case its length matches with *x* & *y*.  Please use the *color* keyword-argument or provide a 2-D array with a single row if you intend to specify the same RGB or RGBA value for all points.\n",
            "*c* argument looks like a single numeric RGB or RGBA sequence, which should be avoided as value-mapping will have precedence in case its length matches with *x* & *y*.  Please use the *color* keyword-argument or provide a 2-D array with a single row if you intend to specify the same RGB or RGBA value for all points.\n",
            "*c* argument looks like a single numeric RGB or RGBA sequence, which should be avoided as value-mapping will have precedence in case its length matches with *x* & *y*.  Please use the *color* keyword-argument or provide a 2-D array with a single row if you intend to specify the same RGB or RGBA value for all points.\n",
            "*c* argument looks like a single numeric RGB or RGBA sequence, which should be avoided as value-mapping will have precedence in case its length matches with *x* & *y*.  Please use the *color* keyword-argument or provide a 2-D array with a single row if you intend to specify the same RGB or RGBA value for all points.\n",
            "*c* argument looks like a single numeric RGB or RGBA sequence, which should be avoided as value-mapping will have precedence in case its length matches with *x* & *y*.  Please use the *color* keyword-argument or provide a 2-D array with a single row if you intend to specify the same RGB or RGBA value for all points.\n"
          ],
          "name": "stderr"
        },
        {
          "output_type": "display_data",
          "data": {
            "image/png": "[encoded data removed]",
            "text/plain": [
              "<Figure size 576x432 with 6 Axes>"
            ]
          },
          "metadata": {
            "tags": [],
            "needs_background": "light"
          }
        }
      ]
    },
    {
      "cell_type": "code",
      "metadata": {
        "id": "8hgGzlsPZTIx",
        "colab_type": "code",
        "colab": {
          "base_uri": "https://localhost:8080/",
          "height": 362
        },
        "outputId": "196a00cb-b479-4635-cf86-3e0d0883e1b1"
      },
      "source": [
        "sns.pairplot(df, x_vars=['GDP', 'SocialSupport', 'Health', 'Freedom', 'Generosity', 'Corruption'], y_vars='Score', height=6, aspect=.6)"
      ],
      "execution_count": null,
      "outputs": [
        {
          "output_type": "execute_result",
          "data": {
            "text/plain": [
              "<seaborn.axisgrid.PairGrid at 0x7f8145ce7ef0>"
            ]
          },
          "metadata": {
            "tags": []
          },
          "execution_count": 14
        },
        {
          "output_type": "display_data",
          "data": {
            "image/png": "[encoded data removed]",
            "text/plain": [
              "<Figure size 1555.2x432 with 6 Axes>"
            ]
          },
          "metadata": {
            "tags": [],
            "needs_background": "light"
          }
        }
      ]
    },
    {
      "cell_type": "code",
      "metadata": {
        "id": "c7bf0Citcy8F",
        "colab_type": "code",
        "colab": {
          "base_uri": "https://localhost:8080/",
          "height": 51
        },
        "outputId": "15fa6179-8a6f-47f3-a763-45a31b4ce1f1"
      },
      "source": [
        "# X = df[['Health']]\n",
        "# y = df[['Score']]\n",
        "\n",
        "# lm2 = LinearRegression()\n",
        "# lm2.fit(X, y)\n",
        "\n",
        "# # print the coefficients\n",
        "# print(lm2.intercept_)\n",
        "# print(lm2.coef_)\n",
        "\n",
        "# A unit increase in health score is associated with a unit increase in happiness score of 3.58"
      ],
      "execution_count": null,
      "outputs": [
        {
          "output_type": "stream",
          "text": [
            "[2.80683162]\n",
            "[[3.58536714]]\n"
          ],
          "name": "stdout"
        }
      ]
    },
    {
      "cell_type": "markdown",
      "metadata": {
        "id": "Pcx0DEducTGV",
        "colab_type": "text"
      },
      "source": [
        "# **Feature Selection**\n",
        "\n",
        "> I will assess various features using linear regression\n",
        "\n",
        "> Features(3-8) \n",
        "\n",
        "3. GDP\n",
        "4. Social Support\n",
        "5. Health\n",
        "6. Freedom\n",
        "7. Generosity\n",
        "8. Corruption\n"
      ]
    },
    {
      "cell_type": "code",
      "metadata": {
        "id": "-31b36pobAZg",
        "colab_type": "code",
        "colab": {}
      },
      "source": [
        "def testFeatures(feature1, feature2):\n",
        "\n",
        "  X = df[[feature1, feature2]].values\n",
        "  y = df['Score'].values\n",
        "\n",
        "  # Split into train and test sets\n",
        "  X_train, X_test, y_train, y_test = train_test_split(X, y, test_size=0.2, random_state=0)\n",
        "\n",
        "\n",
        "  # Define linear regression model\n",
        "  regressor = LinearRegression()\n",
        "  regressor.fit(X, y)\n",
        "\n",
        "\n",
        "  # Predict on test data\n",
        "  y_pred = regressor.predict(X_test)\n",
        "\n",
        "  return y_test, y_pred"
      ],
      "execution_count": null,
      "outputs": []
    },
    {
      "cell_type": "code",
      "metadata": {
        "id": "PM4pTYHUcKRT",
        "colab_type": "code",
        "colab": {
          "base_uri": "https://localhost:8080/",
          "height": 514
        },
        "outputId": "42def0b1-036b-4f46-efc1-328023b12320"
      },
      "source": [
        "# Testing features 3 and 4 -> GDP, Social Support\n",
        "y_test, y_pred = testFeatures('GDP', 'SocialSupport')\n",
        "\n",
        "# Check difference between actual and predicted values\n",
        "results_df = pd.DataFrame({'Actual': y_test, 'Predicted': y_pred})\n",
        "df1 = results_df.head(15)\n",
        "df1"
      ],
      "execution_count": null,
      "outputs": [
        {
          "output_type": "execute_result",
          "data": {
            "text/html": [
              "<div>\n",
              "<style scoped>\n",
              "    .dataframe tbody tr th:only-of-type {\n",
              "        vertical-align: middle;\n",
              "    }\n",
              "\n",
              "    .dataframe tbody tr th {\n",
              "        vertical-align: top;\n",
              "    }\n",
              "\n",
              "    .dataframe thead th {\n",
              "        text-align: right;\n",
              "    }\n",
              "</style>\n",
              "<table border=\"1\" class=\"dataframe\">\n",
              "  <thead>\n",
              "    <tr style=\"text-align: right;\">\n",
              "      <th></th>\n",
              "      <th>Actual</th>\n",
              "      <th>Predicted</th>\n",
              "    </tr>\n",
              "  </thead>\n",
              "  <tbody>\n",
              "    <tr>\n",
              "      <th>0</th>\n",
              "      <td>6.436</td>\n",
              "      <td>5.358054</td>\n",
              "    </tr>\n",
              "    <tr>\n",
              "      <th>1</th>\n",
              "      <td>5.893</td>\n",
              "      <td>6.344680</td>\n",
              "    </tr>\n",
              "    <tr>\n",
              "      <th>2</th>\n",
              "      <td>6.198</td>\n",
              "      <td>6.319898</td>\n",
              "    </tr>\n",
              "    <tr>\n",
              "      <th>3</th>\n",
              "      <td>4.639</td>\n",
              "      <td>5.532076</td>\n",
              "    </tr>\n",
              "    <tr>\n",
              "      <th>4</th>\n",
              "      <td>6.446</td>\n",
              "      <td>6.370393</td>\n",
              "    </tr>\n",
              "    <tr>\n",
              "      <th>5</th>\n",
              "      <td>7.307</td>\n",
              "      <td>6.478135</td>\n",
              "    </tr>\n",
              "    <tr>\n",
              "      <th>6</th>\n",
              "      <td>6.100</td>\n",
              "      <td>5.411577</td>\n",
              "    </tr>\n",
              "    <tr>\n",
              "      <th>7</th>\n",
              "      <td>4.707</td>\n",
              "      <td>5.816417</td>\n",
              "    </tr>\n",
              "    <tr>\n",
              "      <th>8</th>\n",
              "      <td>4.107</td>\n",
              "      <td>4.734721</td>\n",
              "    </tr>\n",
              "    <tr>\n",
              "      <th>9</th>\n",
              "      <td>6.174</td>\n",
              "      <td>5.683750</td>\n",
              "    </tr>\n",
              "    <tr>\n",
              "      <th>10</th>\n",
              "      <td>5.197</td>\n",
              "      <td>5.540657</td>\n",
              "    </tr>\n",
              "    <tr>\n",
              "      <th>11</th>\n",
              "      <td>6.008</td>\n",
              "      <td>5.909925</td>\n",
              "    </tr>\n",
              "    <tr>\n",
              "      <th>12</th>\n",
              "      <td>4.700</td>\n",
              "      <td>4.827736</td>\n",
              "    </tr>\n",
              "    <tr>\n",
              "      <th>13</th>\n",
              "      <td>4.516</td>\n",
              "      <td>4.188208</td>\n",
              "    </tr>\n",
              "    <tr>\n",
              "      <th>14</th>\n",
              "      <td>5.888</td>\n",
              "      <td>5.993416</td>\n",
              "    </tr>\n",
              "  </tbody>\n",
              "</table>\n",
              "</div>"
            ],
            "text/plain": [
              "    Actual  Predicted\n",
              "0    6.436   5.358054\n",
              "1    5.893   6.344680\n",
              "2    6.198   6.319898\n",
              "3    4.639   5.532076\n",
              "4    6.446   6.370393\n",
              "5    7.307   6.478135\n",
              "6    6.100   5.411577\n",
              "7    4.707   5.816417\n",
              "8    4.107   4.734721\n",
              "9    6.174   5.683750\n",
              "10   5.197   5.540657\n",
              "11   6.008   5.909925\n",
              "12   4.700   4.827736\n",
              "13   4.516   4.188208\n",
              "14   5.888   5.993416"
            ]
          },
          "metadata": {
            "tags": []
          },
          "execution_count": 16
        }
      ]
    },
    {
      "cell_type": "code",
      "metadata": {
        "id": "VgDUeAGadGj8",
        "colab_type": "code",
        "colab": {
          "base_uri": "https://localhost:8080/",
          "height": 85
        },
        "outputId": "fa9673d1-3a20-4c45-eb83-ec93e5ef4141"
      },
      "source": [
        "# Assess model with metrics\n",
        "print('Mean Absolute Error:', metrics.mean_absolute_error(y_test, y_pred))  \n",
        "print('Mean Squared Error:', metrics.mean_squared_error(y_test, y_pred))  \n",
        "print('Root Mean Squared Error:', np.sqrt(metrics.mean_squared_error(y_test, y_pred)))\n",
        "print('R squared score: ', r2_score(y_test, y_pred))"
      ],
      "execution_count": null,
      "outputs": [
        {
          "output_type": "stream",
          "text": [
            "Mean Absolute Error: 0.5579833281564716\n",
            "Mean Squared Error: 0.49984410299626036\n",
            "Root Mean Squared Error: 0.706996536763979\n",
            "R squared score:  0.5778932713174805\n"
          ],
          "name": "stdout"
        }
      ]
    },
    {
      "cell_type": "markdown",
      "metadata": {
        "id": "aZZET0sqeAhp",
        "colab_type": "text"
      },
      "source": [
        ""
      ]
    },
    {
      "cell_type": "code",
      "metadata": {
        "id": "88BQlfU_dNIp",
        "colab_type": "code",
        "colab": {
          "base_uri": "https://localhost:8080/",
          "height": 514
        },
        "outputId": "a48a0c5e-b0f2-4c20-9699-dd1f47d313cb"
      },
      "source": [
        "# Testing features 3 and 5 -> GDP, Health\n",
        "y_test, y_pred = testFeatures('GDP', 'Health')\n",
        "\n",
        "# Check difference between actual and predicted values\n",
        "results_df = pd.DataFrame({'Actual': y_test, 'Predicted': y_pred})\n",
        "df1 = results_df.head(15)\n",
        "df1"
      ],
      "execution_count": null,
      "outputs": [
        {
          "output_type": "execute_result",
          "data": {
            "text/html": [
              "<div>\n",
              "<style scoped>\n",
              "    .dataframe tbody tr th:only-of-type {\n",
              "        vertical-align: middle;\n",
              "    }\n",
              "\n",
              "    .dataframe tbody tr th {\n",
              "        vertical-align: top;\n",
              "    }\n",
              "\n",
              "    .dataframe thead th {\n",
              "        text-align: right;\n",
              "    }\n",
              "</style>\n",
              "<table border=\"1\" class=\"dataframe\">\n",
              "  <thead>\n",
              "    <tr style=\"text-align: right;\">\n",
              "      <th></th>\n",
              "      <th>Actual</th>\n",
              "      <th>Predicted</th>\n",
              "    </tr>\n",
              "  </thead>\n",
              "  <tbody>\n",
              "    <tr>\n",
              "      <th>0</th>\n",
              "      <td>6.436</td>\n",
              "      <td>5.305498</td>\n",
              "    </tr>\n",
              "    <tr>\n",
              "      <th>1</th>\n",
              "      <td>5.893</td>\n",
              "      <td>6.108141</td>\n",
              "    </tr>\n",
              "    <tr>\n",
              "      <th>2</th>\n",
              "      <td>6.198</td>\n",
              "      <td>6.132419</td>\n",
              "    </tr>\n",
              "    <tr>\n",
              "      <th>3</th>\n",
              "      <td>4.639</td>\n",
              "      <td>4.931951</td>\n",
              "    </tr>\n",
              "    <tr>\n",
              "      <th>4</th>\n",
              "      <td>6.446</td>\n",
              "      <td>6.351643</td>\n",
              "    </tr>\n",
              "    <tr>\n",
              "      <th>5</th>\n",
              "      <td>7.307</td>\n",
              "      <td>6.464895</td>\n",
              "    </tr>\n",
              "    <tr>\n",
              "      <th>6</th>\n",
              "      <td>6.100</td>\n",
              "      <td>5.434771</td>\n",
              "    </tr>\n",
              "    <tr>\n",
              "      <th>7</th>\n",
              "      <td>4.707</td>\n",
              "      <td>5.620915</td>\n",
              "    </tr>\n",
              "    <tr>\n",
              "      <th>8</th>\n",
              "      <td>4.107</td>\n",
              "      <td>4.445081</td>\n",
              "    </tr>\n",
              "    <tr>\n",
              "      <th>9</th>\n",
              "      <td>6.174</td>\n",
              "      <td>5.250832</td>\n",
              "    </tr>\n",
              "    <tr>\n",
              "      <th>10</th>\n",
              "      <td>5.197</td>\n",
              "      <td>5.674220</td>\n",
              "    </tr>\n",
              "    <tr>\n",
              "      <th>11</th>\n",
              "      <td>6.008</td>\n",
              "      <td>5.780252</td>\n",
              "    </tr>\n",
              "    <tr>\n",
              "      <th>12</th>\n",
              "      <td>4.700</td>\n",
              "      <td>4.814410</td>\n",
              "    </tr>\n",
              "    <tr>\n",
              "      <th>13</th>\n",
              "      <td>4.516</td>\n",
              "      <td>4.093121</td>\n",
              "    </tr>\n",
              "    <tr>\n",
              "      <th>14</th>\n",
              "      <td>5.888</td>\n",
              "      <td>5.819161</td>\n",
              "    </tr>\n",
              "  </tbody>\n",
              "</table>\n",
              "</div>"
            ],
            "text/plain": [
              "    Actual  Predicted\n",
              "0    6.436   5.305498\n",
              "1    5.893   6.108141\n",
              "2    6.198   6.132419\n",
              "3    4.639   4.931951\n",
              "4    6.446   6.351643\n",
              "5    7.307   6.464895\n",
              "6    6.100   5.434771\n",
              "7    4.707   5.620915\n",
              "8    4.107   4.445081\n",
              "9    6.174   5.250832\n",
              "10   5.197   5.674220\n",
              "11   6.008   5.780252\n",
              "12   4.700   4.814410\n",
              "13   4.516   4.093121\n",
              "14   5.888   5.819161"
            ]
          },
          "metadata": {
            "tags": []
          },
          "execution_count": 18
        }
      ]
    },
    {
      "cell_type": "code",
      "metadata": {
        "id": "zPXoDjA-da7K",
        "colab_type": "code",
        "colab": {
          "base_uri": "https://localhost:8080/",
          "height": 85
        },
        "outputId": "66bc92a7-7026-4035-b209-20df430bfad0"
      },
      "source": [
        "# Assess model with metrics\n",
        "print('Mean Absolute Error:', metrics.mean_absolute_error(y_test, y_pred))  \n",
        "print('Mean Squared Error:', metrics.mean_squared_error(y_test, y_pred))  \n",
        "print('Root Mean Squared Error:', np.sqrt(metrics.mean_squared_error(y_test, y_pred)))\n",
        "print('R squared score: ', r2_score(y_test, y_pred))"
      ],
      "execution_count": null,
      "outputs": [
        {
          "output_type": "stream",
          "text": [
            "Mean Absolute Error: 0.580118673242908\n",
            "Mean Squared Error: 0.5058361481522542\n",
            "Root Mean Squared Error: 0.7112215886432682\n",
            "R squared score:  0.5728331284374244\n"
          ],
          "name": "stdout"
        }
      ]
    },
    {
      "cell_type": "code",
      "metadata": {
        "id": "EOnx0DZbdfd_",
        "colab_type": "code",
        "colab": {
          "base_uri": "https://localhost:8080/",
          "height": 514
        },
        "outputId": "8846b0b5-a5d1-4684-83c7-84b03610485d"
      },
      "source": [
        "# Testing features 3 and 6 -> GDP, Freedom\n",
        "y_test, y_pred = testFeatures('GDP', 'Freedom')\n",
        "\n",
        "# Check difference between actual and predicted values\n",
        "results_df = pd.DataFrame({'Actual': y_test, 'Predicted': y_pred})\n",
        "df1 = results_df.head(15)\n",
        "df1"
      ],
      "execution_count": null,
      "outputs": [
        {
          "output_type": "execute_result",
          "data": {
            "text/html": [
              "<div>\n",
              "<style scoped>\n",
              "    .dataframe tbody tr th:only-of-type {\n",
              "        vertical-align: middle;\n",
              "    }\n",
              "\n",
              "    .dataframe tbody tr th {\n",
              "        vertical-align: top;\n",
              "    }\n",
              "\n",
              "    .dataframe thead th {\n",
              "        text-align: right;\n",
              "    }\n",
              "</style>\n",
              "<table border=\"1\" class=\"dataframe\">\n",
              "  <thead>\n",
              "    <tr style=\"text-align: right;\">\n",
              "      <th></th>\n",
              "      <th>Actual</th>\n",
              "      <th>Predicted</th>\n",
              "    </tr>\n",
              "  </thead>\n",
              "  <tbody>\n",
              "    <tr>\n",
              "      <th>0</th>\n",
              "      <td>6.436</td>\n",
              "      <td>5.551874</td>\n",
              "    </tr>\n",
              "    <tr>\n",
              "      <th>1</th>\n",
              "      <td>5.893</td>\n",
              "      <td>6.281081</td>\n",
              "    </tr>\n",
              "    <tr>\n",
              "      <th>2</th>\n",
              "      <td>6.198</td>\n",
              "      <td>5.909865</td>\n",
              "    </tr>\n",
              "    <tr>\n",
              "      <th>3</th>\n",
              "      <td>4.639</td>\n",
              "      <td>5.378020</td>\n",
              "    </tr>\n",
              "    <tr>\n",
              "      <th>4</th>\n",
              "      <td>6.446</td>\n",
              "      <td>6.181361</td>\n",
              "    </tr>\n",
              "    <tr>\n",
              "      <th>5</th>\n",
              "      <td>7.307</td>\n",
              "      <td>6.622798</td>\n",
              "    </tr>\n",
              "    <tr>\n",
              "      <th>6</th>\n",
              "      <td>6.100</td>\n",
              "      <td>5.595883</td>\n",
              "    </tr>\n",
              "    <tr>\n",
              "      <th>7</th>\n",
              "      <td>4.707</td>\n",
              "      <td>4.935466</td>\n",
              "    </tr>\n",
              "    <tr>\n",
              "      <th>8</th>\n",
              "      <td>4.107</td>\n",
              "      <td>4.881656</td>\n",
              "    </tr>\n",
              "    <tr>\n",
              "      <th>9</th>\n",
              "      <td>6.174</td>\n",
              "      <td>5.679444</td>\n",
              "    </tr>\n",
              "    <tr>\n",
              "      <th>10</th>\n",
              "      <td>5.197</td>\n",
              "      <td>5.135981</td>\n",
              "    </tr>\n",
              "    <tr>\n",
              "      <th>11</th>\n",
              "      <td>6.008</td>\n",
              "      <td>6.077268</td>\n",
              "    </tr>\n",
              "    <tr>\n",
              "      <th>12</th>\n",
              "      <td>4.700</td>\n",
              "      <td>5.303311</td>\n",
              "    </tr>\n",
              "    <tr>\n",
              "      <th>13</th>\n",
              "      <td>4.516</td>\n",
              "      <td>4.253369</td>\n",
              "    </tr>\n",
              "    <tr>\n",
              "      <th>14</th>\n",
              "      <td>5.888</td>\n",
              "      <td>6.067257</td>\n",
              "    </tr>\n",
              "  </tbody>\n",
              "</table>\n",
              "</div>"
            ],
            "text/plain": [
              "    Actual  Predicted\n",
              "0    6.436   5.551874\n",
              "1    5.893   6.281081\n",
              "2    6.198   5.909865\n",
              "3    4.639   5.378020\n",
              "4    6.446   6.181361\n",
              "5    7.307   6.622798\n",
              "6    6.100   5.595883\n",
              "7    4.707   4.935466\n",
              "8    4.107   4.881656\n",
              "9    6.174   5.679444\n",
              "10   5.197   5.135981\n",
              "11   6.008   6.077268\n",
              "12   4.700   5.303311\n",
              "13   4.516   4.253369\n",
              "14   5.888   6.067257"
            ]
          },
          "metadata": {
            "tags": []
          },
          "execution_count": 20
        }
      ]
    },
    {
      "cell_type": "code",
      "metadata": {
        "id": "xMc5Lg6Td3Zd",
        "colab_type": "code",
        "colab": {
          "base_uri": "https://localhost:8080/",
          "height": 85
        },
        "outputId": "253bd3b3-1c17-4a5d-e7af-67088c69ad35"
      },
      "source": [
        "# Assess model with metrics\n",
        "print('Mean Absolute Error:', metrics.mean_absolute_error(y_test, y_pred))  \n",
        "print('Mean Squared Error:', metrics.mean_squared_error(y_test, y_pred))  \n",
        "print('Root Mean Squared Error:', np.sqrt(metrics.mean_squared_error(y_test, y_pred)))\n",
        "print('R squared score:', r2_score(y_test, y_pred))"
      ],
      "execution_count": null,
      "outputs": [
        {
          "output_type": "stream",
          "text": [
            "Mean Absolute Error: 0.5704148657679611\n",
            "Mean Squared Error: 0.536137964100549\n",
            "Root Mean Squared Error: 0.7322144249470568\n",
            "R squared score: 0.5472439490784949\n"
          ],
          "name": "stdout"
        }
      ]
    },
    {
      "cell_type": "code",
      "metadata": {
        "id": "1TBQzZmydp2g",
        "colab_type": "code",
        "colab": {
          "base_uri": "https://localhost:8080/",
          "height": 514
        },
        "outputId": "c13a1c2a-3ca4-4256-d5cc-a4e1a2b79ccd"
      },
      "source": [
        "# Testing features 3 and 7 -> GDP, Generosity\n",
        "y_test, y_pred = testFeatures('GDP', 'Generosity')\n",
        "\n",
        "# Check difference between actual and predicted values\n",
        "results_df = pd.DataFrame({'Actual': y_test, 'Predicted': y_pred})\n",
        "df1 = results_df.head(15)\n",
        "df1"
      ],
      "execution_count": null,
      "outputs": [
        {
          "output_type": "execute_result",
          "data": {
            "text/html": [
              "<div>\n",
              "<style scoped>\n",
              "    .dataframe tbody tr th:only-of-type {\n",
              "        vertical-align: middle;\n",
              "    }\n",
              "\n",
              "    .dataframe tbody tr th {\n",
              "        vertical-align: top;\n",
              "    }\n",
              "\n",
              "    .dataframe thead th {\n",
              "        text-align: right;\n",
              "    }\n",
              "</style>\n",
              "<table border=\"1\" class=\"dataframe\">\n",
              "  <thead>\n",
              "    <tr style=\"text-align: right;\">\n",
              "      <th></th>\n",
              "      <th>Actual</th>\n",
              "      <th>Predicted</th>\n",
              "    </tr>\n",
              "  </thead>\n",
              "  <tbody>\n",
              "    <tr>\n",
              "      <th>0</th>\n",
              "      <td>6.436</td>\n",
              "      <td>5.154485</td>\n",
              "    </tr>\n",
              "    <tr>\n",
              "      <th>1</th>\n",
              "      <td>5.893</td>\n",
              "      <td>6.019675</td>\n",
              "    </tr>\n",
              "    <tr>\n",
              "      <th>2</th>\n",
              "      <td>6.198</td>\n",
              "      <td>6.069357</td>\n",
              "    </tr>\n",
              "    <tr>\n",
              "      <th>3</th>\n",
              "      <td>4.639</td>\n",
              "      <td>5.160455</td>\n",
              "    </tr>\n",
              "    <tr>\n",
              "      <th>4</th>\n",
              "      <td>6.446</td>\n",
              "      <td>6.541664</td>\n",
              "    </tr>\n",
              "    <tr>\n",
              "      <th>5</th>\n",
              "      <td>7.307</td>\n",
              "      <td>6.539381</td>\n",
              "    </tr>\n",
              "    <tr>\n",
              "      <th>6</th>\n",
              "      <td>6.100</td>\n",
              "      <td>5.481214</td>\n",
              "    </tr>\n",
              "    <tr>\n",
              "      <th>7</th>\n",
              "      <td>4.707</td>\n",
              "      <td>5.332835</td>\n",
              "    </tr>\n",
              "    <tr>\n",
              "      <th>8</th>\n",
              "      <td>4.107</td>\n",
              "      <td>4.772895</td>\n",
              "    </tr>\n",
              "    <tr>\n",
              "      <th>9</th>\n",
              "      <td>6.174</td>\n",
              "      <td>5.271188</td>\n",
              "    </tr>\n",
              "    <tr>\n",
              "      <th>10</th>\n",
              "      <td>5.197</td>\n",
              "      <td>5.560385</td>\n",
              "    </tr>\n",
              "    <tr>\n",
              "      <th>11</th>\n",
              "      <td>6.008</td>\n",
              "      <td>6.017737</td>\n",
              "    </tr>\n",
              "    <tr>\n",
              "      <th>12</th>\n",
              "      <td>4.700</td>\n",
              "      <td>4.739365</td>\n",
              "    </tr>\n",
              "    <tr>\n",
              "      <th>13</th>\n",
              "      <td>4.516</td>\n",
              "      <td>4.201564</td>\n",
              "    </tr>\n",
              "    <tr>\n",
              "      <th>14</th>\n",
              "      <td>5.888</td>\n",
              "      <td>5.939680</td>\n",
              "    </tr>\n",
              "  </tbody>\n",
              "</table>\n",
              "</div>"
            ],
            "text/plain": [
              "    Actual  Predicted\n",
              "0    6.436   5.154485\n",
              "1    5.893   6.019675\n",
              "2    6.198   6.069357\n",
              "3    4.639   5.160455\n",
              "4    6.446   6.541664\n",
              "5    7.307   6.539381\n",
              "6    6.100   5.481214\n",
              "7    4.707   5.332835\n",
              "8    4.107   4.772895\n",
              "9    6.174   5.271188\n",
              "10   5.197   5.560385\n",
              "11   6.008   6.017737\n",
              "12   4.700   4.739365\n",
              "13   4.516   4.201564\n",
              "14   5.888   5.939680"
            ]
          },
          "metadata": {
            "tags": []
          },
          "execution_count": 22
        }
      ]
    },
    {
      "cell_type": "code",
      "metadata": {
        "id": "cOEu8EOfeIj6",
        "colab_type": "code",
        "colab": {
          "base_uri": "https://localhost:8080/",
          "height": 85
        },
        "outputId": "b0798dc6-f552-4eb4-bfc9-ad50570319a2"
      },
      "source": [
        "# Assess model with metrics\n",
        "print('Mean Absolute Error:', metrics.mean_absolute_error(y_test, y_pred))  \n",
        "print('Mean Squared Error:', metrics.mean_squared_error(y_test, y_pred))  \n",
        "print('Root Mean Squared Error:', np.sqrt(metrics.mean_squared_error(y_test, y_pred)))\n",
        "print('R squared score:', r2_score(y_test, y_pred))"
      ],
      "execution_count": null,
      "outputs": [
        {
          "output_type": "stream",
          "text": [
            "Mean Absolute Error: 0.5980176723629705\n",
            "Mean Squared Error: 0.5561657194130263\n",
            "Root Mean Squared Error: 0.745765190534545\n",
            "R squared score: 0.5303309751589707\n"
          ],
          "name": "stdout"
        }
      ]
    },
    {
      "cell_type": "code",
      "metadata": {
        "id": "mDJUThT1dtXH",
        "colab_type": "code",
        "colab": {
          "base_uri": "https://localhost:8080/",
          "height": 514
        },
        "outputId": "c248fb86-e51f-45b9-fd65-0863dcb8f22c"
      },
      "source": [
        "# Testing features 3 and 8 -> GDP, Corruption\n",
        "y_test, y_pred = testFeatures('GDP', 'Corruption')\n",
        "\n",
        "# Check difference between actual and predicted values\n",
        "results_df = pd.DataFrame({'Actual': y_test, 'Predicted': y_pred})\n",
        "df1 = results_df.head(15)\n",
        "df1"
      ],
      "execution_count": null,
      "outputs": [
        {
          "output_type": "execute_result",
          "data": {
            "text/html": [
              "<div>\n",
              "<style scoped>\n",
              "    .dataframe tbody tr th:only-of-type {\n",
              "        vertical-align: middle;\n",
              "    }\n",
              "\n",
              "    .dataframe tbody tr th {\n",
              "        vertical-align: top;\n",
              "    }\n",
              "\n",
              "    .dataframe thead th {\n",
              "        text-align: right;\n",
              "    }\n",
              "</style>\n",
              "<table border=\"1\" class=\"dataframe\">\n",
              "  <thead>\n",
              "    <tr style=\"text-align: right;\">\n",
              "      <th></th>\n",
              "      <th>Actual</th>\n",
              "      <th>Predicted</th>\n",
              "    </tr>\n",
              "  </thead>\n",
              "  <tbody>\n",
              "    <tr>\n",
              "      <th>0</th>\n",
              "      <td>6.436</td>\n",
              "      <td>5.125649</td>\n",
              "    </tr>\n",
              "    <tr>\n",
              "      <th>1</th>\n",
              "      <td>5.893</td>\n",
              "      <td>6.194695</td>\n",
              "    </tr>\n",
              "    <tr>\n",
              "      <th>2</th>\n",
              "      <td>6.198</td>\n",
              "      <td>5.931556</td>\n",
              "    </tr>\n",
              "    <tr>\n",
              "      <th>3</th>\n",
              "      <td>4.639</td>\n",
              "      <td>5.247951</td>\n",
              "    </tr>\n",
              "    <tr>\n",
              "      <th>4</th>\n",
              "      <td>6.446</td>\n",
              "      <td>6.344732</td>\n",
              "    </tr>\n",
              "    <tr>\n",
              "      <th>5</th>\n",
              "      <td>7.307</td>\n",
              "      <td>6.752057</td>\n",
              "    </tr>\n",
              "    <tr>\n",
              "      <th>6</th>\n",
              "      <td>6.100</td>\n",
              "      <td>5.158321</td>\n",
              "    </tr>\n",
              "    <tr>\n",
              "      <th>7</th>\n",
              "      <td>4.707</td>\n",
              "      <td>5.399346</td>\n",
              "    </tr>\n",
              "    <tr>\n",
              "      <th>8</th>\n",
              "      <td>4.107</td>\n",
              "      <td>4.680674</td>\n",
              "    </tr>\n",
              "    <tr>\n",
              "      <th>9</th>\n",
              "      <td>6.174</td>\n",
              "      <td>5.321773</td>\n",
              "    </tr>\n",
              "    <tr>\n",
              "      <th>10</th>\n",
              "      <td>5.197</td>\n",
              "      <td>5.417213</td>\n",
              "    </tr>\n",
              "    <tr>\n",
              "      <th>11</th>\n",
              "      <td>6.008</td>\n",
              "      <td>5.550304</td>\n",
              "    </tr>\n",
              "    <tr>\n",
              "      <th>12</th>\n",
              "      <td>4.700</td>\n",
              "      <td>4.624407</td>\n",
              "    </tr>\n",
              "    <tr>\n",
              "      <th>13</th>\n",
              "      <td>4.516</td>\n",
              "      <td>4.271902</td>\n",
              "    </tr>\n",
              "    <tr>\n",
              "      <th>14</th>\n",
              "      <td>5.888</td>\n",
              "      <td>5.757415</td>\n",
              "    </tr>\n",
              "  </tbody>\n",
              "</table>\n",
              "</div>"
            ],
            "text/plain": [
              "    Actual  Predicted\n",
              "0    6.436   5.125649\n",
              "1    5.893   6.194695\n",
              "2    6.198   5.931556\n",
              "3    4.639   5.247951\n",
              "4    6.446   6.344732\n",
              "5    7.307   6.752057\n",
              "6    6.100   5.158321\n",
              "7    4.707   5.399346\n",
              "8    4.107   4.680674\n",
              "9    6.174   5.321773\n",
              "10   5.197   5.417213\n",
              "11   6.008   5.550304\n",
              "12   4.700   4.624407\n",
              "13   4.516   4.271902\n",
              "14   5.888   5.757415"
            ]
          },
          "metadata": {
            "tags": []
          },
          "execution_count": 24
        }
      ]
    },
    {
      "cell_type": "code",
      "metadata": {
        "id": "Iq049qhleJZ1",
        "colab_type": "code",
        "colab": {
          "base_uri": "https://localhost:8080/",
          "height": 85
        },
        "outputId": "cec82449-b15b-45eb-e3e2-3b25d088e14f"
      },
      "source": [
        "# Assess model with metrics\n",
        "print('Mean Absolute Error:', metrics.mean_absolute_error(y_test, y_pred))  \n",
        "print('Mean Squared Error:', metrics.mean_squared_error(y_test, y_pred))  \n",
        "print('Root Mean Squared Error:', np.sqrt(metrics.mean_squared_error(y_test, y_pred)))\n",
        "print('R squared score:', r2_score(y_test, y_pred))"
      ],
      "execution_count": null,
      "outputs": [
        {
          "output_type": "stream",
          "text": [
            "Mean Absolute Error: 0.6384692027532056\n",
            "Mean Squared Error: 0.6166756982067279\n",
            "Root Mean Squared Error: 0.7852870164511367\n",
            "R squared score: 0.4792317043100175\n"
          ],
          "name": "stdout"
        }
      ]
    },
    {
      "cell_type": "markdown",
      "metadata": {
        "id": "jmVQ84p2Q-mE",
        "colab_type": "text"
      },
      "source": [
        "# **Regression Analysis**\n",
        "\n",
        "**Conclusions from Feature Selection**\n",
        "\n",
        "> The combination of features: GDP and Corruption had the highest mean squared error at about .61\n",
        "\n",
        "> On the other hand, GDP and Social Support had the lowest mean squared error at .49\n",
        "\n",
        "**MODELS USED:**\n",
        "\n",
        "> Linear Regression\n",
        "\n",
        "> Random Forest Regression: Ensemble method (consists of a large number of individual decision trees)\n",
        "\n",
        "> Decision Tree Regression "
      ]
    },
    {
      "cell_type": "code",
      "metadata": {
        "id": "rFRojwwOP8lH",
        "colab_type": "code",
        "colab": {}
      },
      "source": [
        "# Split data into features and label\n",
        "# I will use features determined by previous section-> GDP and Social Support\n",
        "\n",
        "X = df[['GDP', 'SocialSupport']].values\n",
        "\n",
        "Y = df['Score'].values"
      ],
      "execution_count": null,
      "outputs": []
    },
    {
      "cell_type": "code",
      "metadata": {
        "id": "xByBZk_XQ0dd",
        "colab_type": "code",
        "colab": {}
      },
      "source": [
        "# Split into train and test sets\n",
        "X_train, X_test, y_train, y_test = train_test_split(X, Y, test_size=0.2, random_state=0)"
      ],
      "execution_count": null,
      "outputs": []
    },
    {
      "cell_type": "code",
      "metadata": {
        "id": "DyDPGx1-Q50V",
        "colab_type": "code",
        "colab": {
          "base_uri": "https://localhost:8080/",
          "height": 34
        },
        "outputId": "1b6bb3c1-b0ec-42d6-8fa0-9df3944bc127"
      },
      "source": [
        "# First model: Linear Regression\n",
        "regressor = LinearRegression()\n",
        "regressor.fit(X_train, y_train)"
      ],
      "execution_count": null,
      "outputs": [
        {
          "output_type": "execute_result",
          "data": {
            "text/plain": [
              "LinearRegression(copy_X=True, fit_intercept=True, n_jobs=None, normalize=False)"
            ]
          },
          "metadata": {
            "tags": []
          },
          "execution_count": 39
        }
      ]
    },
    {
      "cell_type": "code",
      "metadata": {
        "id": "4rTOYHovXU7d",
        "colab_type": "code",
        "colab": {
          "base_uri": "https://localhost:8080/",
          "height": 111
        },
        "outputId": "9bedb5df-10e0-416b-e7a8-0506c079861b"
      },
      "source": [
        "# Check coefficients regression model has chosen\n",
        "coeff_df = pd.DataFrame(regressor.coef_, df.columns[3:5], columns=['Coefficient'])  \n",
        "coeff_df"
      ],
      "execution_count": null,
      "outputs": [
        {
          "output_type": "execute_result",
          "data": {
            "text/html": [
              "<div>\n",
              "<style scoped>\n",
              "    .dataframe tbody tr th:only-of-type {\n",
              "        vertical-align: middle;\n",
              "    }\n",
              "\n",
              "    .dataframe tbody tr th {\n",
              "        vertical-align: top;\n",
              "    }\n",
              "\n",
              "    .dataframe thead th {\n",
              "        text-align: right;\n",
              "    }\n",
              "</style>\n",
              "<table border=\"1\" class=\"dataframe\">\n",
              "  <thead>\n",
              "    <tr style=\"text-align: right;\">\n",
              "      <th></th>\n",
              "      <th>Coefficient</th>\n",
              "    </tr>\n",
              "  </thead>\n",
              "  <tbody>\n",
              "    <tr>\n",
              "      <th>GDP</th>\n",
              "      <td>1.438748</td>\n",
              "    </tr>\n",
              "    <tr>\n",
              "      <th>SocialSupport</th>\n",
              "      <td>1.415102</td>\n",
              "    </tr>\n",
              "  </tbody>\n",
              "</table>\n",
              "</div>"
            ],
            "text/plain": [
              "               Coefficient\n",
              "GDP               1.438748\n",
              "SocialSupport     1.415102"
            ]
          },
          "metadata": {
            "tags": []
          },
          "execution_count": 29
        }
      ]
    },
    {
      "cell_type": "code",
      "metadata": {
        "id": "2U6tEs8AXf1G",
        "colab_type": "code",
        "colab": {}
      },
      "source": [
        "# Predict on test data\n",
        "y_pred = regressor.predict(X_test)"
      ],
      "execution_count": null,
      "outputs": []
    },
    {
      "cell_type": "code",
      "metadata": {
        "id": "eVtZJJ-fXnUB",
        "colab_type": "code",
        "colab": {
          "base_uri": "https://localhost:8080/",
          "height": 514
        },
        "outputId": "5c77a4c8-0897-48c4-cfc2-086dfa72c9e3"
      },
      "source": [
        "# Check difference between actual and predicted values\n",
        "results_df = pd.DataFrame({'Actual': y_test, 'Predicted': y_pred})\n",
        "df1 = results_df.head(15)\n",
        "df1"
      ],
      "execution_count": null,
      "outputs": [
        {
          "output_type": "execute_result",
          "data": {
            "text/html": [
              "<div>\n",
              "<style scoped>\n",
              "    .dataframe tbody tr th:only-of-type {\n",
              "        vertical-align: middle;\n",
              "    }\n",
              "\n",
              "    .dataframe tbody tr th {\n",
              "        vertical-align: top;\n",
              "    }\n",
              "\n",
              "    .dataframe thead th {\n",
              "        text-align: right;\n",
              "    }\n",
              "</style>\n",
              "<table border=\"1\" class=\"dataframe\">\n",
              "  <thead>\n",
              "    <tr style=\"text-align: right;\">\n",
              "      <th></th>\n",
              "      <th>Actual</th>\n",
              "      <th>Predicted</th>\n",
              "    </tr>\n",
              "  </thead>\n",
              "  <tbody>\n",
              "    <tr>\n",
              "      <th>0</th>\n",
              "      <td>6.436</td>\n",
              "      <td>5.354921</td>\n",
              "    </tr>\n",
              "    <tr>\n",
              "      <th>1</th>\n",
              "      <td>5.893</td>\n",
              "      <td>6.350166</td>\n",
              "    </tr>\n",
              "    <tr>\n",
              "      <th>2</th>\n",
              "      <td>6.198</td>\n",
              "      <td>6.329152</td>\n",
              "    </tr>\n",
              "    <tr>\n",
              "      <th>3</th>\n",
              "      <td>4.639</td>\n",
              "      <td>5.530847</td>\n",
              "    </tr>\n",
              "    <tr>\n",
              "      <th>4</th>\n",
              "      <td>6.446</td>\n",
              "      <td>6.399962</td>\n",
              "    </tr>\n",
              "    <tr>\n",
              "      <th>5</th>\n",
              "      <td>7.307</td>\n",
              "      <td>6.486161</td>\n",
              "    </tr>\n",
              "    <tr>\n",
              "      <th>6</th>\n",
              "      <td>6.100</td>\n",
              "      <td>5.420540</td>\n",
              "    </tr>\n",
              "    <tr>\n",
              "      <th>7</th>\n",
              "      <td>4.707</td>\n",
              "      <td>5.808707</td>\n",
              "    </tr>\n",
              "    <tr>\n",
              "      <th>8</th>\n",
              "      <td>4.107</td>\n",
              "      <td>4.736933</td>\n",
              "    </tr>\n",
              "    <tr>\n",
              "      <th>9</th>\n",
              "      <td>6.174</td>\n",
              "      <td>5.643717</td>\n",
              "    </tr>\n",
              "    <tr>\n",
              "      <th>10</th>\n",
              "      <td>5.197</td>\n",
              "      <td>5.560288</td>\n",
              "    </tr>\n",
              "    <tr>\n",
              "      <th>11</th>\n",
              "      <td>6.008</td>\n",
              "      <td>5.912723</td>\n",
              "    </tr>\n",
              "    <tr>\n",
              "      <th>12</th>\n",
              "      <td>4.700</td>\n",
              "      <td>4.821744</td>\n",
              "    </tr>\n",
              "    <tr>\n",
              "      <th>13</th>\n",
              "      <td>4.516</td>\n",
              "      <td>4.180074</td>\n",
              "    </tr>\n",
              "    <tr>\n",
              "      <th>14</th>\n",
              "      <td>5.888</td>\n",
              "      <td>6.003529</td>\n",
              "    </tr>\n",
              "  </tbody>\n",
              "</table>\n",
              "</div>"
            ],
            "text/plain": [
              "    Actual  Predicted\n",
              "0    6.436   5.354921\n",
              "1    5.893   6.350166\n",
              "2    6.198   6.329152\n",
              "3    4.639   5.530847\n",
              "4    6.446   6.399962\n",
              "5    7.307   6.486161\n",
              "6    6.100   5.420540\n",
              "7    4.707   5.808707\n",
              "8    4.107   4.736933\n",
              "9    6.174   5.643717\n",
              "10   5.197   5.560288\n",
              "11   6.008   5.912723\n",
              "12   4.700   4.821744\n",
              "13   4.516   4.180074\n",
              "14   5.888   6.003529"
            ]
          },
          "metadata": {
            "tags": []
          },
          "execution_count": 31
        }
      ]
    },
    {
      "cell_type": "code",
      "metadata": {
        "id": "qqe4j4-XX1YX",
        "colab_type": "code",
        "colab": {
          "base_uri": "https://localhost:8080/",
          "height": 85
        },
        "outputId": "e38d58b8-755b-4d4d-e9ab-cc9b60c0fefd"
      },
      "source": [
        "# Assess model with metrics\n",
        "print('Mean Absolute Error:', metrics.mean_absolute_error(y_test, y_pred))  \n",
        "print('Mean Squared Error:', metrics.mean_squared_error(y_test, y_pred))  \n",
        "print('Root Mean Squared Error:', np.sqrt(metrics.mean_squared_error(y_test, y_pred)))\n",
        "print('R squared score: ', r2_score(y_test, y_pred))"
      ],
      "execution_count": null,
      "outputs": [
        {
          "output_type": "stream",
          "text": [
            "Mean Absolute Error: 0.5648804635414444\n",
            "Mean Squared Error: 0.507469940001434\n",
            "Root Mean Squared Error: 0.7123692441433964\n",
            "R squared score:  0.5714534291898561\n"
          ],
          "name": "stdout"
        }
      ]
    },
    {
      "cell_type": "code",
      "metadata": {
        "id": "t8Ztz5VIfQx0",
        "colab_type": "code",
        "colab": {
          "base_uri": "https://localhost:8080/",
          "height": 136
        },
        "outputId": "2fee4e9d-1356-4324-ee42-574c3922afc4"
      },
      "source": [
        "# Model 2: Random Forest\n",
        "regr = RandomForestRegressor(max_depth=2, random_state=0)\n",
        "regr.fit(X_train, y_train)"
      ],
      "execution_count": null,
      "outputs": [
        {
          "output_type": "execute_result",
          "data": {
            "text/plain": [
              "RandomForestRegressor(bootstrap=True, ccp_alpha=0.0, criterion='mse',\n",
              "                      max_depth=2, max_features='auto', max_leaf_nodes=None,\n",
              "                      max_samples=None, min_impurity_decrease=0.0,\n",
              "                      min_impurity_split=None, min_samples_leaf=1,\n",
              "                      min_samples_split=2, min_weight_fraction_leaf=0.0,\n",
              "                      n_estimators=100, n_jobs=None, oob_score=False,\n",
              "                      random_state=0, verbose=0, warm_start=False)"
            ]
          },
          "metadata": {
            "tags": []
          },
          "execution_count": 33
        }
      ]
    },
    {
      "cell_type": "code",
      "metadata": {
        "id": "axPM86eRfmPP",
        "colab_type": "code",
        "colab": {}
      },
      "source": [
        "# Predict on test data\n",
        "y_pred = regr.predict(X_test)"
      ],
      "execution_count": null,
      "outputs": []
    },
    {
      "cell_type": "code",
      "metadata": {
        "id": "MHx-FiP7fZ7R",
        "colab_type": "code",
        "colab": {
          "base_uri": "https://localhost:8080/",
          "height": 85
        },
        "outputId": "b7719fa7-77c3-4577-fd97-1b4c60bd904f"
      },
      "source": [
        "print('Mean Absolute Error:', metrics.mean_absolute_error(y_test, y_pred))  \n",
        "print('Mean Squared Error:', metrics.mean_squared_error(y_test, y_pred))  \n",
        "print('Root Mean Squared Error:', np.sqrt(metrics.mean_squared_error(y_test, y_pred)))\n",
        "print('R squared score: ', r2_score(y_test, y_pred))"
      ],
      "execution_count": null,
      "outputs": [
        {
          "output_type": "stream",
          "text": [
            "Mean Absolute Error: 0.5134879684814704\n",
            "Mean Squared Error: 0.3941745217818904\n",
            "Root Mean Squared Error: 0.6278331958266387\n",
            "R squared score:  0.6671287769086772\n"
          ],
          "name": "stdout"
        }
      ]
    },
    {
      "cell_type": "code",
      "metadata": {
        "id": "crgNCyxwjBGM",
        "colab_type": "code",
        "colab": {
          "base_uri": "https://localhost:8080/",
          "height": 119
        },
        "outputId": "f405b55b-6331-404e-fb8c-d59eefd83353"
      },
      "source": [
        "# Model 3: Decision Tree \n",
        "from sklearn.tree import DecisionTreeRegressor\n",
        "regress = DecisionTreeRegressor(max_depth=7, random_state=0)\n",
        "regress.fit(X_train, y_train)"
      ],
      "execution_count": null,
      "outputs": [
        {
          "output_type": "execute_result",
          "data": {
            "text/plain": [
              "DecisionTreeRegressor(ccp_alpha=0.0, criterion='mse', max_depth=7,\n",
              "                      max_features=None, max_leaf_nodes=None,\n",
              "                      min_impurity_decrease=0.0, min_impurity_split=None,\n",
              "                      min_samples_leaf=1, min_samples_split=2,\n",
              "                      min_weight_fraction_leaf=0.0, presort='deprecated',\n",
              "                      random_state=0, splitter='best')"
            ]
          },
          "metadata": {
            "tags": []
          },
          "execution_count": 36
        }
      ]
    },
    {
      "cell_type": "code",
      "metadata": {
        "id": "vnr9txQvjgZy",
        "colab_type": "code",
        "colab": {}
      },
      "source": [
        "# Predict on test data\n",
        "y_pred = regress.predict(X_test)"
      ],
      "execution_count": null,
      "outputs": []
    },
    {
      "cell_type": "code",
      "metadata": {
        "id": "ni2Uf4D8jkiq",
        "colab_type": "code",
        "colab": {
          "base_uri": "https://localhost:8080/",
          "height": 85
        },
        "outputId": "31d74a77-4304-4831-edf3-03ab3182fee7"
      },
      "source": [
        "print('Mean Absolute Error:', metrics.mean_absolute_error(y_test, y_pred))  \n",
        "print('Mean Squared Error:', metrics.mean_squared_error(y_test, y_pred))  \n",
        "print('Root Mean Squared Error:', np.sqrt(metrics.mean_squared_error(y_test, y_pred)))\n",
        "print('R squared score: ', r2_score(y_test, y_pred))"
      ],
      "execution_count": null,
      "outputs": [
        {
          "output_type": "stream",
          "text": [
            "Mean Absolute Error: 0.45637165178571437\n",
            "Mean Squared Error: 0.3613711521644701\n",
            "Root Mean Squared Error: 0.6011415408740858\n",
            "R squared score:  0.6948304602054719\n"
          ],
          "name": "stdout"
        }
      ]
    },
    {
      "cell_type": "markdown",
      "metadata": {
        "id": "cw-HOc89kRAD",
        "colab_type": "text"
      },
      "source": [
        "# **Extended Feature Selection**\n",
        "\n",
        "> Choosing features with highest correlation to each other\n",
        "\n",
        "> Choosing features using Select K best in sklearn using mutual information (measures the reduction in uncertainty for one variable given a known value of the other variable)\n"
      ]
    },
    {
      "cell_type": "code",
      "metadata": {
        "id": "PZfjy8c2nCJI",
        "colab_type": "code",
        "colab": {}
      },
      "source": [
        "# Health and Social Support -> high correlation\n",
        "X = df[['Health', 'SocialSupport']].values\n",
        "\n",
        "Y = df['Score'].values\n",
        "\n",
        "# Split into train and test sets\n",
        "X_train, X_test, y_train, y_test = train_test_split(X, Y, test_size=0.2, random_state=0)\n",
        "\n",
        "# First model: Linear Regression\n",
        "regressor = LinearRegression()\n",
        "regressor.fit(X_train, y_train)\n",
        "\n",
        "# Predict on test data\n",
        "y_pred = regressor.predict(X_test)"
      ],
      "execution_count": null,
      "outputs": []
    },
    {
      "cell_type": "code",
      "metadata": {
        "id": "CnSNQ0qGnR5o",
        "colab_type": "code",
        "colab": {
          "base_uri": "https://localhost:8080/",
          "height": 85
        },
        "outputId": "7a5fac69-aa82-4e0b-af13-c8783e46820c"
      },
      "source": [
        "print('Mean Absolute Error:', metrics.mean_absolute_error(y_test, y_pred))  \n",
        "print('Mean Squared Error:', metrics.mean_squared_error(y_test, y_pred))  \n",
        "print('Root Mean Squared Error:', np.sqrt(metrics.mean_squared_error(y_test, y_pred)))\n",
        "print('R squared score: ', r2_score(y_test, y_pred))"
      ],
      "execution_count": null,
      "outputs": [
        {
          "output_type": "stream",
          "text": [
            "Mean Absolute Error: 0.5059102497711236\n",
            "Mean Squared Error: 0.39160130170221547\n",
            "Root Mean Squared Error: 0.625780553950197\n",
            "R squared score:  0.6693018014647354\n"
          ],
          "name": "stdout"
        }
      ]
    },
    {
      "cell_type": "code",
      "metadata": {
        "id": "qKMoPEsPJQcq",
        "colab_type": "code",
        "colab": {
          "base_uri": "https://localhost:8080/",
          "height": 34
        },
        "outputId": "7cccca53-432d-4169-f0f6-d8263db81e28"
      },
      "source": [
        "# Predict on new values DEMO\n",
        "X_new = [[.93, 1.64]]\n",
        "y_new = regressor.predict(X_new)\n",
        "print(\"Predicted value for happiness score: \", y_new[0])"
      ],
      "execution_count": null,
      "outputs": [
        {
          "output_type": "stream",
          "text": [
            "Predicted:  6.581613141546534\n"
          ],
          "name": "stdout"
        }
      ]
    },
    {
      "cell_type": "code",
      "metadata": {
        "id": "JwK02iJaHbYF",
        "colab_type": "code",
        "colab": {}
      },
      "source": [
        "# Select k best\n",
        "# feature selection\n",
        "\n",
        "X = df[['GDP', 'SocialSupport', 'Health', 'Freedom', 'Generosity', 'Corruption']].values\n",
        "y = df['Score']\n",
        "\n",
        "def select_features(X_train, y_train, X_test):\n",
        "\t# configure to select all features\n",
        "\tfs = SelectKBest(score_func=mutual_info_regression, k='all')\n",
        "\t# learn relationship from training data\n",
        "\tfs.fit(X_train, y_train)\n",
        "\t# transform train input data\n",
        "\tX_train_fs = fs.transform(X_train)\n",
        "\t# transform test input data\n",
        "\tX_test_fs = fs.transform(X_test)\n",
        "\treturn X_train_fs, X_test_fs, fs\n",
        "\n",
        "# Split into train and test sets\n",
        "X_train, X_test, y_train, y_test = train_test_split(X, Y, test_size=0.2, random_state=0)"
      ],
      "execution_count": null,
      "outputs": []
    },
    {
      "cell_type": "code",
      "metadata": {
        "id": "2l5sbDKqHolq",
        "colab_type": "code",
        "colab": {}
      },
      "source": [
        "from sklearn.feature_selection import mutual_info_regression\n",
        "X_train_fs, X_test_fs, fs = select_features(X_train, y_train, X_test)"
      ],
      "execution_count": null,
      "outputs": []
    },
    {
      "cell_type": "code",
      "metadata": {
        "id": "NUdktHY9IMSM",
        "colab_type": "code",
        "colab": {
          "base_uri": "https://localhost:8080/",
          "height": 371
        },
        "outputId": "b5bd39e3-53ab-4512-8df1-6b643b78a8cf"
      },
      "source": [
        "from matplotlib import pyplot\n",
        "# GDP, Social Support, Health, Freedom, Generosity, Corruption\n",
        "for i in range(len(fs.scores_)):\n",
        "\tprint('Feature %d: %f' % (i, fs.scores_[i]))\n",
        "# plot the scores\n",
        "pyplot.bar([i for i in range(len(fs.scores_))], fs.scores_)\n",
        "pyplot.show()"
      ],
      "execution_count": null,
      "outputs": [
        {
          "output_type": "stream",
          "text": [
            "Feature 0: 0.602686\n",
            "Feature 1: 0.668116\n",
            "Feature 2: 0.615789\n",
            "Feature 3: 0.339124\n",
            "Feature 4: 0.069972\n",
            "Feature 5: 0.240926\n"
          ],
          "name": "stdout"
        },
        {
          "output_type": "display_data",
          "data": {
            "image/png": "[encoded data removed]",
            "text/plain": [
              "<Figure size 432x288 with 1 Axes>"
            ]
          },
          "metadata": {
            "tags": [],
            "needs_background": "light"
          }
        }
      ]
    },
    {
      "cell_type": "code",
      "metadata": {
        "id": "RGoYOuGaIvFf",
        "colab_type": "code",
        "colab": {}
      },
      "source": [
        "# Two highest scoring features are Social Support and Generosity\n",
        "X = df[['SocialSupport', 'Generosity']].values\n",
        "\n",
        "Y = df['Score'].values\n",
        "\n",
        "# Split into train and test sets\n",
        "X_train, X_test, y_train, y_test = train_test_split(X, Y, test_size=0.2, random_state=0)\n",
        "\n",
        "# First model: Linear Regression\n",
        "regressor = LinearRegression()\n",
        "regressor.fit(X_train, y_train)\n",
        "\n",
        "# Predict on test data\n",
        "y_pred = regressor.predict(X_test)"
      ],
      "execution_count": null,
      "outputs": []
    },
    {
      "cell_type": "code",
      "metadata": {
        "id": "lE2MoUnqJBCg",
        "colab_type": "code",
        "colab": {
          "base_uri": "https://localhost:8080/",
          "height": 85
        },
        "outputId": "2cc4a58e-5e3a-4792-9e33-52785d0ed461"
      },
      "source": [
        "print('Mean Absolute Error:', metrics.mean_absolute_error(y_test, y_pred))  \n",
        "print('Mean Squared Error:', metrics.mean_squared_error(y_test, y_pred))  \n",
        "print('Root Mean Squared Error:', np.sqrt(metrics.mean_squared_error(y_test, y_pred)))\n",
        "print('R squared score: ', r2_score(y_test, y_pred))"
      ],
      "execution_count": null,
      "outputs": [
        {
          "output_type": "stream",
          "text": [
            "Mean Absolute Error: 0.6210076806800187\n",
            "Mean Squared Error: 0.5564136279422068\n",
            "Root Mean Squared Error: 0.7459313828645413\n",
            "R squared score:  0.5301216221674327\n"
          ],
          "name": "stdout"
        }
      ]
    }
  ]
}